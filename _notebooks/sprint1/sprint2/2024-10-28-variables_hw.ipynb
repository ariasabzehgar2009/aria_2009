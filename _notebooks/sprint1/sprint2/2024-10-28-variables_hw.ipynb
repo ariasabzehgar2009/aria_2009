{
 "cells": [
  {
   "cell_type": "markdown",
   "metadata": {},
   "source": [
    "### Variables Homework (Show what you know!)\n",
    "## Your Challenge\n",
    "# Homework Problem: Understanding JavaScript Variables\n",
    "\n",
    "## Problem Statement\n",
    "\n",
    "Read the following scenarios and complete the tasks below.\n",
    "\n",
    "### Scenario 1: Creating Variables\n",
    "\n",
    "1. **Create three variables**:\n",
    "   - A variable called `studentName` that stores your name as a string.\n",
    "   - A variable called `age` that stores your age as a number.\n",
    "   - A variable called `isStudent` that stores a boolean value indicating whether you are a student (use `true` or `false`).\n",
    "\n",
    "### Scenario 2: Using Variables\n",
    "\n",
    "2. **Using the variables you created**, write a sentence using `console.log()` to display:\n",
    "   - Your name.\n",
    "   - Your age.\n",
    "   - Whether you are a student.\n",
    "\n",
    "   Example output:\n",
    "My name is [Your Name], I am [Your Age] years old, and it is [true/false] that I am a student."
   ]
  }
 ],
 "metadata": {
  "kernelspec": {
   "display_name": "venv",
   "language": "python",
   "name": "python3"
  },
  "language_info": {
   "codemirror_mode": {
    "name": "ipython",
    "version": 3
   },
   "file_extension": ".py",
   "mimetype": "text/x-python",
   "name": "python",
   "nbconvert_exporter": "python",
   "pygments_lexer": "ipython3",
   "version": "3.10.12"
  }
 },
 "nbformat": 4,
 "nbformat_minor": 2
}
