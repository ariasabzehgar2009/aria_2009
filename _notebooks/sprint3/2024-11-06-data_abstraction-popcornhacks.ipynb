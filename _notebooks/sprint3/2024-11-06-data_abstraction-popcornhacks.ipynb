{
 "cells": [
  {
   "cell_type": "code",
   "execution_count": null,
   "metadata": {},
   "outputs": [],
   "source": [
    "---\n",
    "comments: True\n",
    "layout: post \n",
    "title: Data Abstraction Hacks\n",
    "description: An intro to data abstraction\n",
    "permalink: /csse/javascript/fundamentals/data-abstraction-hacks\n",
    "type: ccc\n",
    "author: Veera Kalakota, Santhosh Karthik, Akhil Kulkarni\n",
    "---"
   ]
  },
  {
   "cell_type": "markdown",
   "metadata": {},
   "source": [
    "# Popcorn Hack #1\n",
    "Create a child class of the class **Appliance**, and call it's name() function"
   ]
  },
  {
   "cell_type": "code",
   "execution_count": 2,
   "metadata": {
    "vscode": {
     "languageId": "javascript"
    }
   },
   "outputs": [
    {
     "data": {
      "application/javascript": "class Appliance {\n    constructor(name) {\n        this.name = name;\n    }\n    returnname() {\n        return \"I am a \" + this.constructor.name + \" and my model is \" + this.name;\n    }\n}\n\n// Creating a child class called WashingMachine\nclass WashingMachine extends Appliance {\n    constructor(name) {\n        super(name); // Call the parent class constructor with the name argument\n    }\n}\n\nconst washer = new WashingMachine(\"Model X\");\nconsole.log(washer.returnname());\n",
      "text/plain": [
       "<IPython.core.display.Javascript object>"
      ]
     },
     "metadata": {},
     "output_type": "display_data"
    }
   ],
   "source": [
    "%%js\n",
    "class Appliance {\n",
    "    constructor(name) {\n",
    "        this.name = name;\n",
    "    }\n",
    "    returnname() {\n",
    "        return \"I am a \" + this.constructor.name + \" and my model is \" + this.name;\n",
    "    }\n",
    "}\n",
    "\n",
    "// Creating a child class called WashingMachine\n",
    "class WashingMachine extends Appliance {\n",
    "    constructor(name) {\n",
    "        super(name); // Call the parent class constructor with the name argument\n",
    "    }\n",
    "}\n",
    "\n",
    "const washer = new WashingMachine(\"Model X\");\n",
    "console.log(washer.returnname());\n"
   ]
  },
  {
   "cell_type": "markdown",
   "metadata": {},
   "source": [
    "### Popcorn Hack #2\n",
    "Create child classes of the product class with items, and add parameters depending on what it is. An example is provided of a bagel."
   ]
  },
  {
   "cell_type": "code",
   "execution_count": 6,
   "metadata": {
    "vscode": {
     "languageId": "javascript"
    }
   },
   "outputs": [
    {
     "data": {
      "application/javascript": "class Product {\n    constructor(price, size, taxRate) {\n        this.price = price;\n        this.size = size;\n        this.taxRate = taxRate;\n    }\n    getPrice() {\n        return this.price + this.taxRate * this.price;\n    }\n    product() {\n        const className = this.constructor.name.toLowerCase();\n        return \"You are ordering a \" + className + \" with a price of \" + this.getPrice().toFixed(2) + \" dollars, a size of \" + this.size;\n    }\n}\n\nclass HockeyStick extends Product {\n    constructor(price, size, taxRate, handOrientation, flex, brand) {\n        super(price, size, taxRate);\n        this.handOrientation = handOrientation;\n        this.flex = flex;\n        this.brand = brand;\n    }\n    product() {\n        return super.product() + \", a hand orientation of \" + this.handOrientation + \", a flex of \" + this.flex + \", and a brand of \" + this.brand;\n    }\n}\n\nvar ccmHockeyStick = new HockeyStick(120, \"standard\", 0.1, \"right-handed\", 50, \"CCM\");\nconsole.log(ccmHockeyStick.product());\n",
      "text/plain": [
       "<IPython.core.display.Javascript object>"
      ]
     },
     "metadata": {},
     "output_type": "display_data"
    }
   ],
   "source": [
    "%%js \n",
    "class Product {\n",
    "    constructor(price, size, taxRate) {\n",
    "        this.price = price;\n",
    "        this.size = size;\n",
    "        this.taxRate = taxRate;\n",
    "    }\n",
    "    getPrice() {\n",
    "        return this.price + this.taxRate * this.price;\n",
    "    }\n",
    "    product() {\n",
    "        const className = this.constructor.name.toLowerCase();\n",
    "        return \"You are ordering a \" + className + \" with a price of \" + this.getPrice().toFixed(2) + \" dollars, a size of \" + this.size;\n",
    "    }\n",
    "}\n",
    "\n",
    "class HockeyStick extends Product {\n",
    "    constructor(price, size, taxRate, handOrientation, flex, brand) {\n",
    "        super(price, size, taxRate);\n",
    "        this.handOrientation = handOrientation;\n",
    "        this.flex = flex;\n",
    "        this.brand = brand;\n",
    "    }\n",
    "    product() {\n",
    "        return super.product() + \", a hand orientation of \" + this.handOrientation + \", a flex of \" + this.flex + \", and a brand of \" + this.brand;\n",
    "    }\n",
    "}\n",
    "\n",
    "var ccmHockeyStick = new HockeyStick(120, \"standard\", 0.1, \"right-handed\", 50, \"CCM\");\n",
    "console.log(ccmHockeyStick.product());\n"
   ]
  },
  {
   "cell_type": "code",
   "execution_count": null,
   "metadata": {
    "vscode": {
     "languageId": "javascript"
    }
   },
   "outputs": [],
   "source": []
  }
 ],
 "metadata": {
  "kernelspec": {
   "display_name": "venv",
   "language": "python",
   "name": "python3"
  },
  "language_info": {
   "codemirror_mode": {
    "name": "ipython",
    "version": 3
   },
   "file_extension": ".py",
   "mimetype": "text/x-python",
   "name": "python",
   "nbconvert_exporter": "python",
   "pygments_lexer": "ipython3",
   "version": "3.10.12"
  }
 },
 "nbformat": 4,
 "nbformat_minor": 2
}
