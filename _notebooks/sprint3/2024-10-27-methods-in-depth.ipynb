{
 "cells": [
  {
   "cell_type": "code",
   "execution_count": null,
   "metadata": {},
   "outputs": [],
   "source": [
    "---\n",
    "comments: true\n",
    "layout: post\n",
    "title: JavaScript Methods\n",
    "description: An in-depth look at JavaScript methods.\n",
    "author: Alex Van Linge & Lucas Masterson (reviewer)\n",
    "permalink: /csse/javascript/fundamentals/classes/methods/\n",
    "categories: [JavaScript Fundamentals]\n",
    "---"
   ]
  },
  {
   "cell_type": "markdown",
   "metadata": {},
   "source": [
    "# Methods In Depth \n",
    "****\n",
    "\n",
    "Now that we have some of the basics out of the way, now it is time to go into methods in greater detail and depth than what was mentioned in the intro.\n",
    "\n",
    "## Defining Methods \n",
    "Methods in JavaScript are essentially functions inside of objects. To refresh your memory, objects are anything with Key-Value Pairs inside of them (ex: Name: \"Alex\"), and functions are blocks of code that perform specific tasks or actions, like console.log."
   ]
  },
  {
   "cell_type": "markdown",
   "metadata": {},
   "source": [
    "### Here is an example of a method."
   ]
  },
  {
   "cell_type": "code",
   "execution_count": null,
   "metadata": {
    "vscode": {
     "languageId": "javascript"
    }
   },
   "outputs": [
    {
     "data": {
      "application/javascript": "\nlet dog = {\n    name: \"Buddy\",\n    breed: \"Golden Retriever\",\n    // Method to make the dog bark\n    bark: function() {\n        console.log(`${this.name} says Woof!`);\n    }\n};\n\n// Calling the method\ndog.bark(); // Output: \"Buddy says Woof!\"\n",
      "text/plain": [
       "<IPython.core.display.Javascript object>"
      ]
     },
     "metadata": {},
     "output_type": "display_data"
    }
   ],
   "source": [
    "%%js\n",
    "\n",
    "class Dog {\n",
    "    constructor(name, breed) {\n",
    "        this.name = name;\n",
    "        this.breed = breed;\n",
    "    }\n",
    "\n",
    "    // Method to make the dog bark\n",
    "    bark() {\n",
    "        console.log(`${this.name} says Woof!`);\n",
    "    }\n",
    "}\n",
    "\n",
    "// Creating an instance of the Dog class\n",
    "let dog = new Dog(\"Buddy\", \"Golden Retriever\");\n",
    "\n",
    "// Calling the method\n",
    "dog.bark(); // Output: \"Buddy says Woof!\""
   ]
  },
  {
   "cell_type": "markdown",
   "metadata": {},
   "source": [
    "## Accessor Methods\n",
    "\n",
    "A variant of methods that can be particularly useful in many scenarios are `Accessor Methods`. Accessor methods are functions defined within an object that allow you to retrieve (access) the values of the object's properties without modifying them. \n",
    "\n",
    "Accessor methods make debugging code much easier and just make the code as a whole more cohesive and consistent.\n"
   ]
  },
  {
   "cell_type": "code",
   "execution_count": null,
   "metadata": {
    "vscode": {
     "languageId": "javascript"
    }
   },
   "outputs": [
    {
     "data": {
      "application/javascript": "\nlet book = {\n    title: \"To Kill a Mockingbird\",\n    author: \"Harper Lee\",\n\n    // Accessor method to get the title of the book\n    getTitle: function() {\n        return this.title; // Returns the value of the 'title' property\n    },\n\n    // Accessor method to get the author of the book\n    getAuthor: function() {\n        return this.author; // Returns the value of the 'author' property\n    }\n};\n\n// Using the accessor methods\nconsole.log(book.getTitle());  // Output: \"To Kill a Mockingbird\"\nconsole.log(book.getAuthor()); // Output: \"Harper Lee\"\n",
      "text/plain": [
       "<IPython.core.display.Javascript object>"
      ]
     },
     "metadata": {},
     "output_type": "display_data"
    }
   ],
   "source": [
    "%%js\n",
    "\n",
    "class Book {\n",
    "    constructor(title, author) {\n",
    "        this.title = title;\n",
    "        this.author = author;\n",
    "    }\n",
    "\n",
    "    // Accessor method to get the title of the book\n",
    "    getTitle() {\n",
    "        return this.title; // Returns the value of the 'title' property\n",
    "    }\n",
    "\n",
    "    // Accessor method to get the author of the book\n",
    "    getAuthor() {\n",
    "        return this.author; // Returns the value of the 'author' property\n",
    "    }\n",
    "}\n",
    "\n",
    "// Creating an instance of the Book class\n",
    "let book = new Book(\"1984\", \"George Orwell\");\n",
    "\n",
    "// Using the accessor methods\n",
    "console.log(book.getTitle());  // Output: \"1984\"\n",
    "console.log(book.getAuthor()); // Output: \"George Orwell\""
   ]
  },
  {
   "cell_type": "markdown",
   "metadata": {},
   "source": [
    "## Mutator Methods \n",
    "\n",
    "`Mutator Methods` are methods that allow you to modify (or mutate) the values of the object's properties. Unlike accessor methods, which are used to retrieve values, mutator methods are focused on changing the internal state of an object.\n",
    "\n",
    "Mutator methods are practically a necessity when it comes to changing an object's properties, and they not only are consistent and great for debugging, but they also make it easier if you want to change properties any further as you only have to do so from the mutator method and not every other access point in the code.\n",
    "\n"
   ]
  },
  {
   "cell_type": "code",
   "execution_count": null,
   "metadata": {
    "vscode": {
     "languageId": "javascript"
    }
   },
   "outputs": [],
   "source": [
    "%%js \n",
    "\n",
    "class Person {\n",
    "    constructor(name, age) {\n",
    "        this.name = name;\n",
    "        this.age = age;\n",
    "    }\n",
    "\n",
    "    // Mutator method to set the name\n",
    "    setName(newName) {\n",
    "        this.name = newName; // Update the value of the 'name' property\n",
    "    }\n",
    "\n",
    "    // Mutator method to set the age\n",
    "    setAge(newAge) {\n",
    "        if (newAge >= 0) { // Validate the age\n",
    "            this.age = newAge; // Update the value of the 'age' property\n",
    "        } else {\n",
    "            console.log(\"Please enter a valid age.\");\n",
    "        }\n",
    "    }\n",
    "\n",
    "    // Accessor method to get the name\n",
    "    getName() {\n",
    "        return this.name;\n",
    "    }\n",
    "\n",
    "    // Accessor method to get the age\n",
    "    getAge() {\n",
    "        return this.age;\n",
    "    }\n",
    "}\n",
    "\n",
    "// Creating an instance of the Person class\n",
    "let person = new Person(\"Alice\", 30);\n",
    "\n",
    "// Using the mutator methods\n",
    "person.setName(\"Bob\"); // Change the name to \"Bob\"\n",
    "person.setAge(25);     // Change the age to 25\n",
    "console.log(person.getName()); // Output: \"Bob\"\n",
    "console.log(person.getAge());  // Output: 25\n",
    "\n",
    "// Trying to set an invalid age\n",
    "// person.setAge(-5);  // Output: \"Please enter a valid age.\""
   ]
  },
  {
   "cell_type": "markdown",
   "metadata": {},
   "source": [
    "## Popcorn Hack Time!! (yay) \n",
    "\n",
    "For the popcorn hack, use this code cell below and create an object that must include these three things \n",
    "\n",
    "    - Four Key-Value Pairs that at least include your name, age, and two others of your choosing\n",
    "    - Accessor methods (At least 2)\n",
    "    - Mutator methods (At least 2 as well) \n",
    "    "
   ]
  },
  {
   "cell_type": "code",
   "execution_count": 4,
   "metadata": {
    "vscode": {
     "languageId": "javascript"
    }
   },
   "outputs": [
    {
     "data": {
      "application/javascript": "\n// Class definition\nclass Person {\n    // Constructor with key-value pairs\n    constructor(name, age, favoriteColor, hobby) {\n        this.name = name;\n        this.age = age;\n        this.favoriteColor = favoriteColor;\n        this.hobby = hobby;\n    }\n\n    // Accessor Methods (Getters)\n    getName() {\n        return this.name;\n    }\n\n    getAge() {\n        return this.age;\n    }\n\n    getFavoriteColor() {\n        return this.favoriteColor;\n    }\n\n    getHobby() {\n        return this.hobby;\n    }\n\n    // Mutator Methods (Setters)\n    setName(newName) {\n        if (typeof newName === 'string' && newName.trim() !== '') {\n            this.name = newName;\n        } else {\n            console.log('Invalid name input');\n        }\n    }\n\n    setAge(newAge) {\n        if (typeof newAge === 'number' && newAge > 0) {\n            this.age = newAge;\n        } else {\n            console.log('Invalid age input');\n        }\n    }\n\n    setFavoriteColor(newColor) {\n        if (typeof newColor === 'string' && newColor.trim() !== '') {\n            this.favoriteColor = newColor;\n        } else {\n            console.log('Invalid color input');\n        }\n    }\n\n    setHobby(newHobby) {\n        if (typeof newHobby === 'string' && newHobby.trim() !== '') {\n            this.hobby = newHobby;\n        } else {\n            console.log('Invalid hobby input');\n        }\n    }\n}\n\n// Create a new person object\nconst aria = new Person('Aria', 15, 'blue', 'sports');\n\n// Test accessor methods\nconsole.log(aria.getName());           // Should print \"Aria\"\nconsole.log(aria.getAge());            // Should print \"15\"\nconsole.log(aria.getFavoriteColor());  // Should print \"blue\"\nconsole.log(aria.getHobby());          // Should print \"sports\"\n\n// Test mutator methods\naria.setName('Frank');\naria.setAge(35);\naria.setFavoriteColor('purple');\naria.setHobby('coding');\n\n// Test the updated values using accessor methods\nconsole.log(aria.getName());           // Should print \"Frank\"\nconsole.log(aria.getAge());            // Should print \"35\"\nconsole.log(aria.getFavoriteColor());  // Should print \"purple\"\nconsole.log(aria.getHobby());          // Should print \"coding\"\n\n// Test invalid input for mutators\naria.setName('');    // Invalid input\naria.setAge(-5);     // Invalid input\naria.setFavoriteColor('');  // Invalid input\naria.setHobby('');   // Invalid input\n\n// Outputs can go here \n",
      "text/plain": [
       "<IPython.core.display.Javascript object>"
      ]
     },
     "metadata": {},
     "output_type": "display_data"
    }
   ],
   "source": [
    "%%js \n",
    "\n",
    "// Class definition\n",
    "class Person {\n",
    "    // Constructor with key-value pairs\n",
    "    constructor(name, age, favoriteColor, hobby) {\n",
    "        this.name = name;\n",
    "        this.age = age;\n",
    "        this.favoriteColor = favoriteColor;\n",
    "        this.hobby = hobby;\n",
    "    }\n",
    "\n",
    "    // Accessor Methods (Getters)\n",
    "    getName() {\n",
    "        return this.name;\n",
    "    }\n",
    "\n",
    "    getAge() {\n",
    "        return this.age;\n",
    "    }\n",
    "\n",
    "    getFavoriteColor() {\n",
    "        return this.favoriteColor;\n",
    "    }\n",
    "\n",
    "    getHobby() {\n",
    "        return this.hobby;\n",
    "    }\n",
    "\n",
    "    // Mutator Methods (Setters)\n",
    "    setName(newName) {\n",
    "        if (typeof newName === 'string' && newName.trim() !== '') {\n",
    "            this.name = newName;\n",
    "        } else {\n",
    "            console.log('Invalid name input');\n",
    "        }\n",
    "    }\n",
    "\n",
    "    setAge(newAge) {\n",
    "        if (typeof newAge === 'number' && newAge > 0) {\n",
    "            this.age = newAge;\n",
    "        } else {\n",
    "            console.log('Invalid age input');\n",
    "        }\n",
    "    }\n",
    "\n",
    "    setFavoriteColor(newColor) {\n",
    "        if (typeof newColor === 'string' && newColor.trim() !== '') {\n",
    "            this.favoriteColor = newColor;\n",
    "        } else {\n",
    "            console.log('Invalid color input');\n",
    "        }\n",
    "    }\n",
    "\n",
    "    setHobby(newHobby) {\n",
    "        if (typeof newHobby === 'string' && newHobby.trim() !== '') {\n",
    "            this.hobby = newHobby;\n",
    "        } else {\n",
    "            console.log('Invalid hobby input');\n",
    "        }\n",
    "    }\n",
    "}\n",
    "\n",
    "// Create a new person object\n",
    "const aria = new Person('Aria', 15, 'blue', 'sports');\n",
    "\n",
    "// Test accessor methods\n",
    "console.log(aria.getName());           // Should print \"Aria\"\n",
    "console.log(aria.getAge());            // Should print \"15\"\n",
    "console.log(aria.getFavoriteColor());  // Should print \"blue\"\n",
    "console.log(aria.getHobby());          // Should print \"sports\"\n",
    "\n",
    "// Test mutator methods\n",
    "aria.setName('Frank');\n",
    "aria.setAge(35);\n",
    "aria.setFavoriteColor('purple');\n",
    "aria.setHobby('coding');\n",
    "\n",
    "// Test the updated values using accessor methods\n",
    "console.log(aria.getName());           // Should print \"Frank\"\n",
    "console.log(aria.getAge());            // Should print \"35\"\n",
    "console.log(aria.getFavoriteColor());  // Should print \"purple\"\n",
    "console.log(aria.getHobby());          // Should print \"coding\"\n",
    "\n",
    "// Test invalid input for mutators\n",
    "aria.setName('');    // Invalid input\n",
    "aria.setAge(-5);     // Invalid input\n",
    "aria.setFavoriteColor('');  // Invalid input\n",
    "aria.setHobby('');   // Invalid input\n",
    "\n",
    "// Outputs can go here \n"
   ]
  },
  {
   "cell_type": "markdown",
   "metadata": {},
   "source": [
    "\n",
    "\n",
    "****\n",
    "\n",
    "## Sources\n",
    "1. Classes - JavaScript | MDN. MDN Web Docs. 2024 Jul 25. https://developer.mozilla.org/en-US/docs/Web/JavaScript/Reference/Classes\n",
    "2. W3Schools.com. https://www.w3schools.com/js/js_classes.asp\n",
    "\n",
    "****\n",
    "*Building The Future And Keeping The Past Alive Are One In The Same Thing.*"
   ]
  }
 ],
 "metadata": {
  "kernelspec": {
   "display_name": "venv",
   "language": "python",
   "name": "python3"
  },
  "language_info": {
   "codemirror_mode": {
    "name": "ipython",
    "version": 3
   },
   "file_extension": ".py",
   "mimetype": "text/x-python",
   "name": "python",
   "nbconvert_exporter": "python",
   "pygments_lexer": "ipython3",
   "version": "3.10.12"
  }
 },
 "nbformat": 4,
 "nbformat_minor": 2
}
